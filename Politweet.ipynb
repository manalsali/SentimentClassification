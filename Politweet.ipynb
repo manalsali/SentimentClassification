{
 "cells": [
  {
   "cell_type": "markdown",
   "metadata": {},
   "source": [
    "# Politweet, summarizing political debates through Twitter\n",
    "\n",
    "The scope of this project is to build a tool that can summarize a political debate, taking into account what aspects of the debate people liked and understanding the bipolarity of the twittersphere.\n",
    "\n",
    "The following is an example of the dataset provided."
   ]
  },
  {
   "cell_type": "code",
   "execution_count": 224,
   "metadata": {
    "collapsed": false
   },
   "outputs": [],
   "source": [
    "%matplotlib inline\n",
    "import re\n",
    "import pandas as pd\n",
    "pd.set_option('display.max_colwidth', 1200)\n",
    "import numpy as np\n",
    "from IPython.display import display\n",
    "import nltk\n",
    "from __future__ import unicode_literals\n",
    "from spacy.en import English\n",
    "nlp = English()"
   ]
  },
  {
   "cell_type": "code",
   "execution_count": 225,
   "metadata": {
    "collapsed": false
   },
   "outputs": [
    {
     "data": {
      "text/html": [
       "<div style=\"max-height:1000px;max-width:1500px;overflow:auto;\">\n",
       "<table border=\"1\" class=\"dataframe\">\n",
       "  <thead>\n",
       "    <tr style=\"text-align: right;\">\n",
       "      <th></th>\n",
       "      <th>pub.date.GMT</th>\n",
       "      <th>content</th>\n",
       "      <th>author.name</th>\n",
       "      <th>author.nickname</th>\n",
       "      <th>rating.1</th>\n",
       "      <th>rating.2</th>\n",
       "      <th>rating.3</th>\n",
       "      <th>rating.4</th>\n",
       "      <th>rating.5</th>\n",
       "      <th>rating.6</th>\n",
       "      <th>rating.7</th>\n",
       "      <th>rating.8</th>\n",
       "    </tr>\n",
       "    <tr>\n",
       "      <th>tweet.id</th>\n",
       "      <th></th>\n",
       "      <th></th>\n",
       "      <th></th>\n",
       "      <th></th>\n",
       "      <th></th>\n",
       "      <th></th>\n",
       "      <th></th>\n",
       "      <th></th>\n",
       "      <th></th>\n",
       "      <th></th>\n",
       "      <th></th>\n",
       "      <th></th>\n",
       "    </tr>\n",
       "  </thead>\n",
       "  <tbody>\n",
       "    <tr>\n",
       "      <th>936469851</th>\n",
       "      <td> 9/27/08 1:01</td>\n",
       "      <td> Watching by myself  #tweetdebate Not drinking :( waiting to start cringing at McCains blunders</td>\n",
       "      <td> drgilpin</td>\n",
       "      <td> Dawn Gilpin</td>\n",
       "      <td> 1</td>\n",
       "      <td> 1</td>\n",
       "      <td> 4</td>\n",
       "      <td>NaN</td>\n",
       "      <td>NaN</td>\n",
       "      <td>NaN</td>\n",
       "      <td>NaN</td>\n",
       "      <td>NaN</td>\n",
       "    </tr>\n",
       "  </tbody>\n",
       "</table>\n",
       "</div>"
      ],
      "text/plain": [
       "           pub.date.GMT  \\\n",
       "tweet.id                  \n",
       "936469851  9/27/08 1:01   \n",
       "\n",
       "                                                                                                  content  \\\n",
       "tweet.id                                                                                                    \n",
       "936469851  Watching by myself  #tweetdebate Not drinking :( waiting to start cringing at McCains blunders   \n",
       "\n",
       "          author.name author.nickname  rating.1  rating.2  rating.3  rating.4  \\\n",
       "tweet.id                                                                        \n",
       "936469851    drgilpin     Dawn Gilpin         1         1         4       NaN   \n",
       "\n",
       "           rating.5  rating.6  rating.7  rating.8  \n",
       "tweet.id                                           \n",
       "936469851       NaN       NaN       NaN       NaN  "
      ]
     },
     "execution_count": 225,
     "metadata": {},
     "output_type": "execute_result"
    }
   ],
   "source": [
    "# Retrieving the tweets from a file\n",
    "def get_tweets(filename):\n",
    "    df = pd.read_csv(filename, sep='\\t', encoding='utf-8', index_col=\"tweet.id\")\n",
    "    return df\n",
    "\n",
    "df = get_tweets(\"./debate08_sentiment_tweets.tsv\")\n",
    "df[:1]"
   ]
  },
  {
   "cell_type": "code",
   "execution_count": 212,
   "metadata": {
    "collapsed": false
   },
   "outputs": [
    {
     "name": "stdout",
     "output_type": "stream",
     "text": [
      "0 (u'drgilpin', u'Watching by myself  #tweetdebate Not drinking :( waiting to start cringing at McCains blunders')\n",
      "1 (u'starweaver', u\"@ahg3 @MichDot Yeah, slime was actually my second choice, can't say what the first one was. Okay, we're rolling...\")\n",
      "2 (u'kyeung808', u'Preparing to have a heart attack #tweetdebate')\n"
     ]
    }
   ],
   "source": [
    "# Function to nicely print out the tweets\n",
    "def list_content(df):\n",
    "    for i, row in enumerate(zip(df[\"author.name\"].values, df[\"content\"].values)):\n",
    "        print i, row\n",
    "\n",
    "list_content(df[:3])"
   ]
  },
  {
   "cell_type": "markdown",
   "metadata": {},
   "source": [
    "## Pre-processing\n",
    "\n",
    "Before starting building our tools, we aimed at cleaning the data and pre-process it. For example, we perform sentence and word tokenization and we normalize all the mentions to McCain and Obama. There are cases in which McCain is mispelled"
   ]
  },
  {
   "cell_type": "code",
   "execution_count": 234,
   "metadata": {
    "collapsed": false
   },
   "outputs": [
    {
     "name": "stdout",
     "output_type": "stream",
     "text": [
      "Example of word tokens\n"
     ]
    },
    {
     "data": {
      "text/html": [
       "<div style=\"max-height:1000px;max-width:1500px;overflow:auto;\">\n",
       "<table border=\"1\" class=\"dataframe\">\n",
       "  <thead>\n",
       "    <tr style=\"text-align: right;\">\n",
       "      <th></th>\n",
       "      <th>tokens</th>\n",
       "    </tr>\n",
       "    <tr>\n",
       "      <th>tweet.id</th>\n",
       "      <th></th>\n",
       "    </tr>\n",
       "  </thead>\n",
       "  <tbody>\n",
       "    <tr>\n",
       "      <th>936469851</th>\n",
       "      <td> [Watching, by, myself, #, tweetdebate, Not, drinking, :, (, waiting, to, start, cringing, at, McCain, blunders]</td>\n",
       "    </tr>\n",
       "  </tbody>\n",
       "</table>\n",
       "</div>"
      ],
      "text/plain": [
       "                                                                                                                    tokens\n",
       "tweet.id                                                                                                                  \n",
       "936469851  [Watching, by, myself, #, tweetdebate, Not, drinking, :, (, waiting, to, start, cringing, at, McCain, blunders]"
      ]
     },
     "execution_count": 234,
     "metadata": {},
     "output_type": "execute_result"
    }
   ],
   "source": [
    "# We apply this function to pre-process the data\n",
    "# This cleans error and tokenize the tweets into word tokens\n",
    "def pre_processing(df):\n",
    "    df[\"content\"] = df[\"content\"].apply(lambda x: re.sub(r'MCCAINs?', 'McCain', x, flags=re.IGNORECASE))\n",
    "    df[\"content\"] = df[\"content\"].apply(lambda x: re.sub(r'Obama|Barack', 'Obama', x, flags=re.IGNORECASE))\n",
    "    df[\"tokens\"] = df[\"content\"].apply(lambda x: nltk.tokenize.word_tokenize(x))\n",
    "    return df\n",
    "\n",
    "df = pre_processing(df)\n",
    "print \"Example of word tokens\"\n",
    "df[[\"tokens\"]][:1]"
   ]
  },
  {
   "cell_type": "markdown",
   "metadata": {},
   "source": [
    "## Sentiment\n",
    "\n",
    "Our first step is build a sentiment analysis classifier. We will use this to understand whether users are expressing positive or negative sentiment towards a topic and a candidate. In addition, we aim at improving the scores given by Amazon Mechanical Turks, which do not grade the tweets with this depth of details. However, we use the AMT ratings only when all the ratings are equal. We use this our label for our training set.\n",
    "\n",
    "### Approaches\n",
    "Our approaches for sentiment analysis will be the following:\n",
    "\n",
    "1. Rule-based system\n",
    "2. Using a lexicon\n",
    "3. Machine learning techniques\n",
    "\n",
    "Our assumption is that given the specificity of the topic, open-domain machine learning techniques for sentiment analysis, such as Socher 2014 (Recursive Neural Networks) would not satisfy our needs in this particular case, since we may want to train the network with data that are more precise to our problem, however our dataset is too small to do such test. Hence, we attempt at using existing lexicons such as SentiWordnet.\n",
    "\n",
    "After our exporatory data analysis stage, we found that there are very simple rules that we can understand from the different tweets. For example, \"-3 Obama\" is a notation that is used in the tweets to specify that the user disagree with something Obama has said, hence we can can collect rules of this kind and build a rule-based system for sentiment analysis. In addition, we plan to use the outcome of the different rules into a classifier and learn their weights."
   ]
  },
  {
   "cell_type": "markdown",
   "metadata": {},
   "source": [
    "The following code consists in helping function to retrieve all the tweets that contains *some* ratings of the same kind and *all* ratings of the same kind."
   ]
  },
  {
   "cell_type": "code",
   "execution_count": 214,
   "metadata": {
    "collapsed": false
   },
   "outputs": [],
   "source": [
    "rating = {1:\"negative\", 2:\"positive\", 3:\"mixed\", 4:\"other\" }\n",
    "\n",
    "# This static class will help us to filter for Rating.NEGATIVE, etc.\n",
    "class Rating:\n",
    "    NEGATIVE = 1\n",
    "    POSITIVE = 2\n",
    "    MIXED = 3\n",
    "    OTHER = 4\n",
    "\n",
    "# At least one of thar rating\n",
    "def some_rating(df, rating):\n",
    "    return df[\n",
    "        (df[\"rating.1\"]==rating) |\n",
    "        (df[\"rating.2\"]==rating) |\n",
    "        (df[\"rating.3\"]==rating) |\n",
    "        (df[\"rating.4\"]==rating) |\n",
    "        (df[\"rating.5\"]==rating) |\n",
    "        (df[\"rating.6\"]==rating) |\n",
    "        (df[\"rating.7\"]==rating) |\n",
    "        (df[\"rating.8\"]==rating)\n",
    "    ]\n",
    "\n",
    "# Everyone with the same rating\n",
    "def all_rating(df, rating):\n",
    "    return df[\n",
    "        ((df[\"rating.1\"]==rating) | (df[\"rating.1\"] != df[\"rating.1\"])) &\n",
    "        ((df[\"rating.2\"]==rating) | (df[\"rating.2\"] != df[\"rating.2\"])) &\n",
    "        ((df[\"rating.3\"]==rating) | (df[\"rating.3\"] != df[\"rating.3\"])) &\n",
    "        ((df[\"rating.4\"]==rating) | (df[\"rating.4\"] != df[\"rating.4\"])) &\n",
    "        ((df[\"rating.5\"]==rating) | (df[\"rating.5\"] != df[\"rating.5\"])) &\n",
    "        ((df[\"rating.6\"]==rating) | (df[\"rating.6\"] != df[\"rating.6\"])) &\n",
    "        ((df[\"rating.7\"]==rating) | (df[\"rating.7\"] != df[\"rating.7\"])) &\n",
    "        ((df[\"rating.8\"]==rating) | (df[\"rating.8\"] != df[\"rating.8\"]))\n",
    "    ]"
   ]
  },
  {
   "cell_type": "code",
   "execution_count": 252,
   "metadata": {
    "collapsed": false
   },
   "outputs": [
    {
     "name": "stdout",
     "output_type": "stream",
     "text": [
      "At least one negative\n"
     ]
    },
    {
     "data": {
      "text/html": [
       "<div style=\"max-height:1000px;max-width:1500px;overflow:auto;\">\n",
       "<table border=\"1\" class=\"dataframe\">\n",
       "  <thead>\n",
       "    <tr style=\"text-align: right;\">\n",
       "      <th></th>\n",
       "      <th>content</th>\n",
       "      <th>rating.1</th>\n",
       "      <th>rating.2</th>\n",
       "      <th>rating.3</th>\n",
       "    </tr>\n",
       "    <tr>\n",
       "      <th>tweet.id</th>\n",
       "      <th></th>\n",
       "      <th></th>\n",
       "      <th></th>\n",
       "      <th></th>\n",
       "    </tr>\n",
       "  </thead>\n",
       "  <tbody>\n",
       "    <tr>\n",
       "      <th>936469851</th>\n",
       "      <td>                      Watching by myself  #tweetdebate Not drinking :( waiting to start cringing at McCain blunders</td>\n",
       "      <td> 1</td>\n",
       "      <td> 1</td>\n",
       "      <td> 4</td>\n",
       "    </tr>\n",
       "    <tr>\n",
       "      <th>936470432</th>\n",
       "      <td> @ahg3 @MichDot Yeah, slime was actually my second choice, can't say what the first one was. Okay, we're rolling...</td>\n",
       "      <td> 1</td>\n",
       "      <td> 1</td>\n",
       "      <td> 1</td>\n",
       "    </tr>\n",
       "  </tbody>\n",
       "</table>\n",
       "</div>"
      ],
      "text/plain": [
       "                                                                                                                      content  \\\n",
       "tweet.id                                                                                                                        \n",
       "936469851                       Watching by myself  #tweetdebate Not drinking :( waiting to start cringing at McCain blunders   \n",
       "936470432  @ahg3 @MichDot Yeah, slime was actually my second choice, can't say what the first one was. Okay, we're rolling...   \n",
       "\n",
       "           rating.1  rating.2  rating.3  \n",
       "tweet.id                                 \n",
       "936469851         1         1         4  \n",
       "936470432         1         1         1  "
      ]
     },
     "metadata": {},
     "output_type": "display_data"
    },
    {
     "name": "stdout",
     "output_type": "stream",
     "text": [
      "All negative\n"
     ]
    },
    {
     "data": {
      "text/html": [
       "<div style=\"max-height:1000px;max-width:1500px;overflow:auto;\">\n",
       "<table border=\"1\" class=\"dataframe\">\n",
       "  <thead>\n",
       "    <tr style=\"text-align: right;\">\n",
       "      <th></th>\n",
       "      <th>content</th>\n",
       "      <th>rating.1</th>\n",
       "      <th>rating.2</th>\n",
       "      <th>rating.3</th>\n",
       "    </tr>\n",
       "    <tr>\n",
       "      <th>tweet.id</th>\n",
       "      <th></th>\n",
       "      <th></th>\n",
       "      <th></th>\n",
       "      <th></th>\n",
       "    </tr>\n",
       "  </thead>\n",
       "  <tbody>\n",
       "    <tr>\n",
       "      <th>936470432</th>\n",
       "      <td> @ahg3 @MichDot Yeah, slime was actually my second choice, can't say what the first one was. Okay, we're rolling...</td>\n",
       "      <td> 1</td>\n",
       "      <td> 1</td>\n",
       "      <td> 1</td>\n",
       "    </tr>\n",
       "    <tr>\n",
       "      <th>936472030</th>\n",
       "      <td>                                                                      Preparing to have a heart attack #tweetdebate</td>\n",
       "      <td> 1</td>\n",
       "      <td> 1</td>\n",
       "      <td> 1</td>\n",
       "    </tr>\n",
       "  </tbody>\n",
       "</table>\n",
       "</div>"
      ],
      "text/plain": [
       "                                                                                                                      content  \\\n",
       "tweet.id                                                                                                                        \n",
       "936470432  @ahg3 @MichDot Yeah, slime was actually my second choice, can't say what the first one was. Okay, we're rolling...   \n",
       "936472030                                                                       Preparing to have a heart attack #tweetdebate   \n",
       "\n",
       "           rating.1  rating.2  rating.3  \n",
       "tweet.id                                 \n",
       "936470432         1         1         1  \n",
       "936472030         1         1         1  "
      ]
     },
     "metadata": {},
     "output_type": "display_data"
    },
    {
     "name": "stdout",
     "output_type": "stream",
     "text": [
      "All positive\n"
     ]
    },
    {
     "data": {
      "text/html": [
       "<div style=\"max-height:1000px;max-width:1500px;overflow:auto;\">\n",
       "<table border=\"1\" class=\"dataframe\">\n",
       "  <thead>\n",
       "    <tr style=\"text-align: right;\">\n",
       "      <th></th>\n",
       "      <th>content</th>\n",
       "      <th>rating.1</th>\n",
       "      <th>rating.2</th>\n",
       "      <th>rating.3</th>\n",
       "    </tr>\n",
       "    <tr>\n",
       "      <th>tweet.id</th>\n",
       "      <th></th>\n",
       "      <th></th>\n",
       "      <th></th>\n",
       "      <th></th>\n",
       "    </tr>\n",
       "  </thead>\n",
       "  <tbody>\n",
       "    <tr>\n",
       "      <th>936469906</th>\n",
       "      <td> Current TV is pretty cool. Streaming Twitter feedback #tweetdebate</td>\n",
       "      <td> 2</td>\n",
       "      <td> 2</td>\n",
       "      <td> 2</td>\n",
       "    </tr>\n",
       "    <tr>\n",
       "      <th>936470049</th>\n",
       "      <td>                           #tweetdebate - good luck both candidates</td>\n",
       "      <td> 2</td>\n",
       "      <td> 2</td>\n",
       "      <td> 2</td>\n",
       "    </tr>\n",
       "  </tbody>\n",
       "</table>\n",
       "</div>"
      ],
      "text/plain": [
       "                                                                      content  \\\n",
       "tweet.id                                                                        \n",
       "936469906  Current TV is pretty cool. Streaming Twitter feedback #tweetdebate   \n",
       "936470049                            #tweetdebate - good luck both candidates   \n",
       "\n",
       "           rating.1  rating.2  rating.3  \n",
       "tweet.id                                 \n",
       "936469906         2         2         2  \n",
       "936470049         2         2         2  "
      ]
     },
     "metadata": {},
     "output_type": "display_data"
    }
   ],
   "source": [
    "some_negative = some_rating(df, Rating.NEGATIVE)\n",
    "all_negative = all_rating(df, Rating.NEGATIVE)\n",
    "\n",
    "some_positive = some_rating(df, Rating.POSITIVE)\n",
    "all_positive = all_rating(df, Rating.POSITIVE)\n",
    "\n",
    "print \"At least one negative\"\n",
    "display(some_negative[:2][[\"content\", \"rating.1\", \"rating.2\", \"rating.3\"]])\n",
    "print \"All negative\"\n",
    "display(all_negative[:2][[\"content\", \"rating.1\", \"rating.2\", \"rating.3\"]])\n",
    "print \"All positive\"\n",
    "display(all_positive[:2][[\"content\", \"rating.1\", \"rating.2\", \"rating.3\"]])"
   ]
  },
  {
   "cell_type": "markdown",
   "metadata": {},
   "source": [
    "### Exploring the polarity rule-based"
   ]
  },
  {
   "cell_type": "markdown",
   "metadata": {},
   "source": [
    "At this stage, we decided to explore whether we can find a simple matching rule to define the polarity ...Showing tweets that have -1, -2, -3.. in the text, in order to write a rule-based system"
   ]
  },
  {
   "cell_type": "code",
   "execution_count": 241,
   "metadata": {
    "collapsed": false
   },
   "outputs": [
    {
     "name": "stdout",
     "output_type": "stream",
     "text": [
      "Negative tweets with -\n",
      "0 (u'themurmish', u'McCain just gave a cheap plug to Ed Kennedy -1 #tweetdebate #current')\n",
      "1 (u'dabloguiman', u'McCain -2 for not knowing Kennedy is home and watching the debate  #tweetdebate')\n",
      "2 (u'ferret67', u'McCain is talking about bipartisan negotiation? Uh...no... -1 pt. #tweetdebate #current')\n",
      "\n",
      "Positive tweets with -\n",
      "0 (u'naum', u'Obama +1 for swift and wise  #tweetdebate')\n",
      "1 (u'nohype', u'+1 for Obama \"Moving fast, moving swiftly\" #tweetdebate')\n",
      "2 (u'fritzpw', u'\" Obama +1 for articulating his plans - initial & recognition #tweetdebate\"')\n",
      "\n",
      "There are in total 258 matched documents\n"
     ]
    }
   ],
   "source": [
    "# Extract all the tweets with -\n",
    "def minus_df(df):\n",
    "    return df[df[\"content\"].str.contains(\"\\-[0-9]+\")]\n",
    "\n",
    "# Extract all the tweets with +\n",
    "def plus_df(df):\n",
    "    return df[df[\"content\"].str.contains(\"\\+[0-9]+\")]\n",
    "\n",
    "minus_rule = minus_df(all_negative)\n",
    "plus_rule = plus_df(all_positive)\n",
    "\n",
    "print \"Negative tweets with -\"\n",
    "list_content(minus_rule[:3])\n",
    "print \"\\nPositive tweets with -\"\n",
    "list_content(plus_rule[:3])\n",
    "\n",
    "print \"\\nThere are in total \" + str( len (minus_rule + plus_rule) ) + \" matched documents\""
   ]
  },
  {
   "cell_type": "markdown",
   "metadata": {},
   "source": [
    "### Exploring a naive bayes classifier\n",
    "\n",
    "We decided to use our rules as a features into a Naive Bayes Classifier.\n",
    "\n",
    "Hence we write two regular expressions to match + and - tweets, previously filtered by same-rating by ATM"
   ]
  },
  {
   "cell_type": "code",
   "execution_count": 242,
   "metadata": {
    "collapsed": false
   },
   "outputs": [],
   "source": [
    "# regular expressions to match - and +\n",
    "plus_regex = re.compile(\".*(\\+[0-9]+).*\")\n",
    "minus_regex = re.compile(\".*(\\-[0-9]+).*\")"
   ]
  },
  {
   "cell_type": "code",
   "execution_count": 243,
   "metadata": {
    "collapsed": true
   },
   "outputs": [],
   "source": [
    "# Extract features of a document\n",
    "def document_features(document):\n",
    "    document_words = set(document[\"tokens\"])\n",
    "    document_words_l = (d.lower() for d in set(document[\"tokens\"]))\n",
    "    features = {}\n",
    "    # Positive/Negative polarity if contains a +/-\n",
    "    features['polarity(+)'] = plus_regex.match(document[\"content\"]) != None\n",
    "    features['polarity(-)'] = minus_regex.match(document[\"content\"]) != None\n",
    "    # Point out that contains the word Obama/McCain\n",
    "    features['contains(obama)'] = \"obama\" in document_words_l\n",
    "    features['contains(mccain)'] = \"mccain\" in document_words_l\n",
    "    return features"
   ]
  },
  {
   "cell_type": "markdown",
   "metadata": {},
   "source": [
    "In order to train the classifier, we decided to split the two datasets 80% training, 20% test"
   ]
  },
  {
   "cell_type": "code",
   "execution_count": 245,
   "metadata": {
    "collapsed": false
   },
   "outputs": [],
   "source": [
    "# splits the data in train, dev using the factor\n",
    "def split_dataset(dataset, factor):\n",
    "    limit = int(len(dataset)*factor)\n",
    "    return dataset[:limit], dataset[limit:]\n",
    "\n",
    "#  label each document with `pos` or `neg` if contain the rule\n",
    "pos = [(document_features(d), \"pos\") for i, d in plus_rule.iterrows()]\n",
    "neg = [(document_features(d), \"neg\") for i, d in minus_rule.iterrows()]\n",
    "\n",
    "# split the datasets\n",
    "pos_train, pos_test = split_dataset(pos, 0.8)\n",
    "neg_train, neg_test = split_dataset(neg, 0.8)\n",
    "# join the train and the test\n",
    "train_set = pos_train + neg_train\n",
    "test_set = pos_train + neg_train"
   ]
  },
  {
   "cell_type": "markdown",
   "metadata": {},
   "source": [
    "The following result shows a really great outcome of our very simple classifier. 100% of the tweets are marked correctly"
   ]
  },
  {
   "cell_type": "code",
   "execution_count": 247,
   "metadata": {
    "collapsed": false
   },
   "outputs": [
    {
     "name": "stdout",
     "output_type": "stream",
     "text": [
      "1.0\n",
      "Most Informative Features\n",
      "         contains(obama) = False             neg : pos    =      3.2 : 1.0\n",
      "         contains(obama) = True              pos : neg    =      3.0 : 1.0\n",
      "        contains(mccain) = True              neg : pos    =      1.4 : 1.0\n",
      "        contains(mccain) = False             pos : neg    =      1.0 : 1.0\n"
     ]
    }
   ],
   "source": [
    "# run the classifier\n",
    "classifier = nltk.NaiveBayesClassifier.train(train_set)\n",
    "print(nltk.classify.accuracy(classifier, test_set))\n",
    "classifier.show_most_informative_features(5)"
   ]
  },
  {
   "cell_type": "code",
   "execution_count": 248,
   "metadata": {
    "collapsed": false
   },
   "outputs": [
    {
     "data": {
      "text/plain": [
       "u'pos'"
      ]
     },
     "execution_count": 248,
     "metadata": {},
     "output_type": "execute_result"
    }
   ],
   "source": [
    "# Use this an example to test your sentence\n",
    "for_example = \"Obama was crap +1\"\n",
    "for_example_tokens = nltk.tokenize.word_tokenize(for_example)\n",
    "for_example_doc = dict(tokens=for_example_tokens, content=for_example)\n",
    "classifier.classify(document_features(for_example_doc))"
   ]
  },
  {
   "cell_type": "markdown",
   "metadata": {},
   "source": [
    "How does this classifier performs on tweets that are not marked with the same score by ATM?"
   ]
  },
  {
   "cell_type": "code",
   "execution_count": 249,
   "metadata": {
    "collapsed": false
   },
   "outputs": [
    {
     "name": "stdout",
     "output_type": "stream",
     "text": [
      "63\n"
     ]
    },
    {
     "data": {
      "text/html": [
       "<div style=\"max-height:1000px;max-width:1500px;overflow:auto;\">\n",
       "<table border=\"1\" class=\"dataframe\">\n",
       "  <thead>\n",
       "    <tr style=\"text-align: right;\">\n",
       "      <th></th>\n",
       "      <th>pub.date.GMT</th>\n",
       "      <th>content</th>\n",
       "      <th>author.name</th>\n",
       "      <th>author.nickname</th>\n",
       "      <th>rating.1</th>\n",
       "      <th>rating.2</th>\n",
       "      <th>rating.3</th>\n",
       "      <th>rating.4</th>\n",
       "      <th>rating.5</th>\n",
       "      <th>rating.6</th>\n",
       "      <th>rating.7</th>\n",
       "      <th>rating.8</th>\n",
       "      <th>tokens</th>\n",
       "    </tr>\n",
       "    <tr>\n",
       "      <th>tweet.id</th>\n",
       "      <th></th>\n",
       "      <th></th>\n",
       "      <th></th>\n",
       "      <th></th>\n",
       "      <th></th>\n",
       "      <th></th>\n",
       "      <th></th>\n",
       "      <th></th>\n",
       "      <th></th>\n",
       "      <th></th>\n",
       "      <th></th>\n",
       "      <th></th>\n",
       "      <th></th>\n",
       "    </tr>\n",
       "  </thead>\n",
       "  <tbody>\n",
       "    <tr>\n",
       "      <th>936479038</th>\n",
       "      <td> 9/27/08 1:07</td>\n",
       "      <td> -1 McCain for stalling with faux sympathy #tweetdebate</td>\n",
       "      <td> KennyL</td>\n",
       "      <td> Kenny Lauer</td>\n",
       "      <td> 1</td>\n",
       "      <td> 2</td>\n",
       "      <td> 1</td>\n",
       "      <td>NaN</td>\n",
       "      <td>NaN</td>\n",
       "      <td>NaN</td>\n",
       "      <td>NaN</td>\n",
       "      <td>NaN</td>\n",
       "      <td> [-1, McCain, for, stalling, with, faux, sympathy, #, tweetdebate]</td>\n",
       "    </tr>\n",
       "  </tbody>\n",
       "</table>\n",
       "</div>"
      ],
      "text/plain": [
       "           pub.date.GMT  \\\n",
       "tweet.id                  \n",
       "936479038  9/27/08 1:07   \n",
       "\n",
       "                                                          content author.name  \\\n",
       "tweet.id                                                                        \n",
       "936479038  -1 McCain for stalling with faux sympathy #tweetdebate      KennyL   \n",
       "\n",
       "          author.nickname  rating.1  rating.2  rating.3  rating.4  rating.5  \\\n",
       "tweet.id                                                                      \n",
       "936479038     Kenny Lauer         1         2         1       NaN       NaN   \n",
       "\n",
       "           rating.6  rating.7  rating.8  \\\n",
       "tweet.id                                  \n",
       "936479038       NaN       NaN       NaN   \n",
       "\n",
       "                                                                      tokens  \n",
       "tweet.id                                                                      \n",
       "936479038  [-1, McCain, for, stalling, with, faux, sympathy, #, tweetdebate]  "
      ]
     },
     "metadata": {},
     "output_type": "display_data"
    },
    {
     "name": "stdout",
     "output_type": "stream",
     "text": [
      "64\n"
     ]
    },
    {
     "data": {
      "text/html": [
       "<div style=\"max-height:1000px;max-width:1500px;overflow:auto;\">\n",
       "<table border=\"1\" class=\"dataframe\">\n",
       "  <thead>\n",
       "    <tr style=\"text-align: right;\">\n",
       "      <th></th>\n",
       "      <th>pub.date.GMT</th>\n",
       "      <th>content</th>\n",
       "      <th>author.name</th>\n",
       "      <th>author.nickname</th>\n",
       "      <th>rating.1</th>\n",
       "      <th>rating.2</th>\n",
       "      <th>rating.3</th>\n",
       "      <th>rating.4</th>\n",
       "      <th>rating.5</th>\n",
       "      <th>rating.6</th>\n",
       "      <th>rating.7</th>\n",
       "      <th>rating.8</th>\n",
       "      <th>tokens</th>\n",
       "    </tr>\n",
       "    <tr>\n",
       "      <th>tweet.id</th>\n",
       "      <th></th>\n",
       "      <th></th>\n",
       "      <th></th>\n",
       "      <th></th>\n",
       "      <th></th>\n",
       "      <th></th>\n",
       "      <th></th>\n",
       "      <th></th>\n",
       "      <th></th>\n",
       "      <th></th>\n",
       "      <th></th>\n",
       "      <th></th>\n",
       "      <th></th>\n",
       "    </tr>\n",
       "  </thead>\n",
       "  <tbody>\n",
       "    <tr>\n",
       "      <th>936479026</th>\n",
       "      <td> 9/27/08 1:07</td>\n",
       "      <td> McCain +1 for plugging Kennedy #tweetdebate</td>\n",
       "      <td> gminks</td>\n",
       "      <td> Gina Minks</td>\n",
       "      <td> 1</td>\n",
       "      <td> 2</td>\n",
       "      <td> 2</td>\n",
       "      <td> 2</td>\n",
       "      <td>NaN</td>\n",
       "      <td>NaN</td>\n",
       "      <td>NaN</td>\n",
       "      <td>NaN</td>\n",
       "      <td> [McCain, +1, for, plugging, Kennedy, #, tweetdebate]</td>\n",
       "    </tr>\n",
       "  </tbody>\n",
       "</table>\n",
       "</div>"
      ],
      "text/plain": [
       "           pub.date.GMT                                      content  \\\n",
       "tweet.id                                                               \n",
       "936479026  9/27/08 1:07  McCain +1 for plugging Kennedy #tweetdebate   \n",
       "\n",
       "          author.name author.nickname  rating.1  rating.2  rating.3  rating.4  \\\n",
       "tweet.id                                                                        \n",
       "936479026      gminks      Gina Minks         1         2         2         2   \n",
       "\n",
       "           rating.5  rating.6  rating.7  rating.8  \\\n",
       "tweet.id                                            \n",
       "936479026       NaN       NaN       NaN       NaN   \n",
       "\n",
       "                                                         tokens  \n",
       "tweet.id                                                         \n",
       "936479026  [McCain, +1, for, plugging, Kennedy, #, tweetdebate]  "
      ]
     },
     "metadata": {},
     "output_type": "display_data"
    }
   ],
   "source": [
    "# This does the set minus operations over the tweet ids\n",
    "def df_setminus(d1, d2):\n",
    "    index = d1.index.difference(d2.index)\n",
    "    return d1.reindex(index)\n",
    "\n",
    "# Getting the tweet that have not marked all in the same way\n",
    "# but contain at least one positive for disagreeing positive\n",
    "# and one negative, for disagreeing negative\n",
    "disagreeing_positive = df_setminus(some_positive, all_positive)\n",
    "disagreeing_negative = df_setminus(some_negative, all_negative)\n",
    "\n",
    "# We further filter them with the minus and the plus rule\n",
    "minus_rule_disagreeing = minus_df(disagreeing_positive)\n",
    "plus_rule_disagreeing = plus_df(disagreeing_negative)\n",
    "\n",
    "print len(minus_rule_disagreeing)\n",
    "display(minus_rule_disagreeing[:1])\n",
    "print len(plus_rule_disagreeing)\n",
    "display(plus_rule_disagreeing[:1])"
   ]
  },
  {
   "cell_type": "markdown",
   "metadata": {},
   "source": [
    "# Topic modeling\n"
   ]
  },
  {
   "cell_type": "markdown",
   "metadata": {},
   "source": [
    "Here we attempt exploratory topic modelling, starting from understanding how hashtags are used.\n",
    "However, how we can see from the following examples, hashtags haven't been used to point out the topic discussed. Only three tweets contain hashtags different from #tweetdebate, #current, #debate, #debate08. Hence, the results are trivial for further analysis"
   ]
  },
  {
   "cell_type": "code",
   "execution_count": 250,
   "metadata": {
    "collapsed": false
   },
   "outputs": [
    {
     "data": {
      "text/html": [
       "<div style=\"max-height:1000px;max-width:1500px;overflow:auto;\">\n",
       "<table border=\"1\" class=\"dataframe\">\n",
       "  <thead>\n",
       "    <tr style=\"text-align: right;\">\n",
       "      <th></th>\n",
       "      <th>pub.date.GMT</th>\n",
       "      <th>content</th>\n",
       "      <th>author.name</th>\n",
       "      <th>author.nickname</th>\n",
       "      <th>rating.1</th>\n",
       "      <th>rating.2</th>\n",
       "      <th>rating.3</th>\n",
       "      <th>rating.4</th>\n",
       "      <th>rating.5</th>\n",
       "      <th>rating.6</th>\n",
       "      <th>rating.7</th>\n",
       "      <th>rating.8</th>\n",
       "      <th>tokens</th>\n",
       "    </tr>\n",
       "    <tr>\n",
       "      <th>tweet.id</th>\n",
       "      <th></th>\n",
       "      <th></th>\n",
       "      <th></th>\n",
       "      <th></th>\n",
       "      <th></th>\n",
       "      <th></th>\n",
       "      <th></th>\n",
       "      <th></th>\n",
       "      <th></th>\n",
       "      <th></th>\n",
       "      <th></th>\n",
       "      <th></th>\n",
       "      <th></th>\n",
       "    </tr>\n",
       "  </thead>\n",
       "  <tbody>\n",
       "    <tr>\n",
       "      <th>936509930</th>\n",
       "      <td> 9/27/08 1:22</td>\n",
       "      <td>                                   @davidweiner You're playing that game?  I'm drinking everytime I hear #economy.</td>\n",
       "      <td>  SukiFuller</td>\n",
       "      <td>  Suki Fuller</td>\n",
       "      <td> 1</td>\n",
       "      <td> 1</td>\n",
       "      <td> 2</td>\n",
       "      <td>NaN</td>\n",
       "      <td>NaN</td>\n",
       "      <td>NaN</td>\n",
       "      <td>NaN</td>\n",
       "      <td>NaN</td>\n",
       "      <td>                                          [@, davidweiner, You, 're, playing, that, game, ?, I, 'm, drinking, everytime, I, hear, #, economy, .]</td>\n",
       "    </tr>\n",
       "    <tr>\n",
       "      <th>936722330</th>\n",
       "      <td> 9/27/08 3:17</td>\n",
       "      <td> @seasonothebitch same here, actually -- I am feeling a bit of pain after all those #McCainhots (water is helping)</td>\n",
       "      <td>  beretta627</td>\n",
       "      <td>        Chris</td>\n",
       "      <td> 2</td>\n",
       "      <td> 1</td>\n",
       "      <td> 1</td>\n",
       "      <td>NaN</td>\n",
       "      <td>NaN</td>\n",
       "      <td>NaN</td>\n",
       "      <td>NaN</td>\n",
       "      <td>NaN</td>\n",
       "      <td> [@, seasonothebitch, same, here, ,, actually, --, I, am, feeling, a, bit, of, pain, after, all, those, #, McCainhots, (, water, is, helping, )]</td>\n",
       "    </tr>\n",
       "    <tr>\n",
       "      <th>936646130</th>\n",
       "      <td> 9/27/08 2:26</td>\n",
       "      <td>                               @cgritter #Obamashot when Obama says \"Change\". #McCainhot when he says \"my friends\"</td>\n",
       "      <td> CarriBugbee</td>\n",
       "      <td> Carri Bugbee</td>\n",
       "      <td> 1</td>\n",
       "      <td> 4</td>\n",
       "      <td> 4</td>\n",
       "      <td>NaN</td>\n",
       "      <td>NaN</td>\n",
       "      <td>NaN</td>\n",
       "      <td>NaN</td>\n",
       "      <td>NaN</td>\n",
       "      <td>                            [@, cgritter, #, Obamashot, when, Obama, says, ``, Change, '', ., #, McCainhot, when, he, says, ``, my, friends, '']</td>\n",
       "    </tr>\n",
       "  </tbody>\n",
       "</table>\n",
       "</div>"
      ],
      "text/plain": [
       "           pub.date.GMT  \\\n",
       "tweet.id                  \n",
       "936509930  9/27/08 1:22   \n",
       "936722330  9/27/08 3:17   \n",
       "936646130  9/27/08 2:26   \n",
       "\n",
       "                                                                                                                     content  \\\n",
       "tweet.id                                                                                                                       \n",
       "936509930                                    @davidweiner You're playing that game?  I'm drinking everytime I hear #economy.   \n",
       "936722330  @seasonothebitch same here, actually -- I am feeling a bit of pain after all those #McCainhots (water is helping)   \n",
       "936646130                                @cgritter #Obamashot when Obama says \"Change\". #McCainhot when he says \"my friends\"   \n",
       "\n",
       "           author.name author.nickname  rating.1  rating.2  rating.3  \\\n",
       "tweet.id                                                               \n",
       "936509930   SukiFuller     Suki Fuller         1         1         2   \n",
       "936722330   beretta627           Chris         2         1         1   \n",
       "936646130  CarriBugbee    Carri Bugbee         1         4         4   \n",
       "\n",
       "           rating.4  rating.5  rating.6  rating.7  rating.8  \\\n",
       "tweet.id                                                      \n",
       "936509930       NaN       NaN       NaN       NaN       NaN   \n",
       "936722330       NaN       NaN       NaN       NaN       NaN   \n",
       "936646130       NaN       NaN       NaN       NaN       NaN   \n",
       "\n",
       "                                                                                                                                                    tokens  \n",
       "tweet.id                                                                                                                                                    \n",
       "936509930                                           [@, davidweiner, You, 're, playing, that, game, ?, I, 'm, drinking, everytime, I, hear, #, economy, .]  \n",
       "936722330  [@, seasonothebitch, same, here, ,, actually, --, I, am, feeling, a, bit, of, pain, after, all, those, #, McCainhots, (, water, is, helping, )]  \n",
       "936646130                             [@, cgritter, #, Obamashot, when, Obama, says, ``, Change, '', ., #, McCainhot, when, he, says, ``, my, friends, '']  "
      ]
     },
     "execution_count": 250,
     "metadata": {},
     "output_type": "execute_result"
    }
   ],
   "source": [
    "# we get all the tweets that do not contain\n",
    "# the hashtags #tweetdebate, #current, #debate\n",
    "# but that still contain a hashtag\n",
    "\n",
    "with_hashtags = df[\n",
    "    (df[\"content\"].str.contains(\"#\"))\n",
    "    & (~df[\"content\"].str.contains(\"#tweetdebate|current|debate\", flags=re.IGNORECASE))\n",
    "]\n",
    "with_hashtags"
   ]
  },
  {
   "cell_type": "markdown",
   "metadata": {},
   "source": [
    "# Clustering"
   ]
  },
  {
   "cell_type": "markdown",
   "metadata": {},
   "source": [
    "The following graph shows the distribution of tweets per user."
   ]
  },
  {
   "cell_type": "code",
   "execution_count": 251,
   "metadata": {
    "collapsed": false
   },
   "outputs": [
    {
     "data": {
      "text/plain": [
       "<matplotlib.text.Text at 0x115b662d0>"
      ]
     },
     "execution_count": 251,
     "metadata": {},
     "output_type": "execute_result"
    },
    {
     "data": {
      "image/png": "[encoded data removed]",
      "text/plain": [
       "<matplotlib.figure.Figure at 0x115dc7050>"
      ]
     },
     "metadata": {},
     "output_type": "display_data"
    }
   ],
   "source": [
    "ax = df.groupby(\"author.name\").size().order().plot()\n",
    "ax.set_xlabel(\"Twitter users ordered by # tweets they made\")\n",
    "ax.set_ylabel(\"# tweets\")"
   ]
  },
  {
   "cell_type": "code",
   "execution_count": null,
   "metadata": {
    "collapsed": true
   },
   "outputs": [],
   "source": []
  }
 ],
 "metadata": {
  "kernelspec": {
   "display_name": "Python 2",
   "language": "python",
   "name": "python2"
  },
  "language_info": {
   "codemirror_mode": {
    "name": "ipython",
    "version": 2
   },
   "file_extension": ".py",
   "mimetype": "text/x-python",
   "name": "python",
   "nbconvert_exporter": "python",
   "pygments_lexer": "ipython2",
   "version": "2.7.9"
  }
 },
 "nbformat": 4,
 "nbformat_minor": 0
}
